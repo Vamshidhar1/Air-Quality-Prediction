{
 "cells": [
  {
   "cell_type": "markdown",
   "metadata": {},
   "source": [
    "## Importing the libraries and reading the csv file"
   ]
  },
  {
   "cell_type": "code",
   "execution_count": 1,
   "metadata": {},
   "outputs": [],
   "source": [
    "import pandas as pd\n",
    "import numpy as np\n",
    "import matplotlib.pyplot as plt\n",
    "import seaborn as sns"
   ]
  },
  {
   "cell_type": "code",
   "execution_count": 2,
   "metadata": {},
   "outputs": [],
   "source": [
    "dataset = pd.read_csv(r\"D:\\DATA SCIENCE\\NEW\\NEW_AQI.csv\")"
   ]
  },
  {
   "cell_type": "code",
   "execution_count": 3,
   "metadata": {},
   "outputs": [
    {
     "data": {
      "text/html": [
       "<div>\n",
       "<style scoped>\n",
       "    .dataframe tbody tr th:only-of-type {\n",
       "        vertical-align: middle;\n",
       "    }\n",
       "\n",
       "    .dataframe tbody tr th {\n",
       "        vertical-align: top;\n",
       "    }\n",
       "\n",
       "    .dataframe thead th {\n",
       "        text-align: right;\n",
       "    }\n",
       "</style>\n",
       "<table border=\"1\" class=\"dataframe\">\n",
       "  <thead>\n",
       "    <tr style=\"text-align: right;\">\n",
       "      <th></th>\n",
       "      <th>Date</th>\n",
       "      <th>PM2.5</th>\n",
       "      <th>PM10</th>\n",
       "      <th>NO2</th>\n",
       "      <th>CO</th>\n",
       "      <th>SO2</th>\n",
       "      <th>O3</th>\n",
       "      <th>AQI</th>\n",
       "    </tr>\n",
       "  </thead>\n",
       "  <tbody>\n",
       "    <tr>\n",
       "      <th>0</th>\n",
       "      <td>01-01-2017</td>\n",
       "      <td>61.25</td>\n",
       "      <td>100.46</td>\n",
       "      <td>39.37</td>\n",
       "      <td>0.25</td>\n",
       "      <td>6.08</td>\n",
       "      <td>69.11</td>\n",
       "      <td>110</td>\n",
       "    </tr>\n",
       "    <tr>\n",
       "      <th>1</th>\n",
       "      <td>02-01-2017</td>\n",
       "      <td>47.21</td>\n",
       "      <td>80.12</td>\n",
       "      <td>52.00</td>\n",
       "      <td>0.33</td>\n",
       "      <td>20.73</td>\n",
       "      <td>47.61</td>\n",
       "      <td>103</td>\n",
       "    </tr>\n",
       "    <tr>\n",
       "      <th>2</th>\n",
       "      <td>03-01-2017</td>\n",
       "      <td>65.45</td>\n",
       "      <td>132.09</td>\n",
       "      <td>58.68</td>\n",
       "      <td>0.31</td>\n",
       "      <td>22.99</td>\n",
       "      <td>50.37</td>\n",
       "      <td>103</td>\n",
       "    </tr>\n",
       "    <tr>\n",
       "      <th>3</th>\n",
       "      <td>04-01-2017</td>\n",
       "      <td>116.03</td>\n",
       "      <td>197.89</td>\n",
       "      <td>58.20</td>\n",
       "      <td>0.15</td>\n",
       "      <td>37.31</td>\n",
       "      <td>56.42</td>\n",
       "      <td>215</td>\n",
       "    </tr>\n",
       "    <tr>\n",
       "      <th>4</th>\n",
       "      <td>05-01-2017</td>\n",
       "      <td>96.21</td>\n",
       "      <td>162.27</td>\n",
       "      <td>57.60</td>\n",
       "      <td>0.00</td>\n",
       "      <td>25.88</td>\n",
       "      <td>45.66</td>\n",
       "      <td>276</td>\n",
       "    </tr>\n",
       "  </tbody>\n",
       "</table>\n",
       "</div>"
      ],
      "text/plain": [
       "         Date   PM2.5    PM10    NO2    CO    SO2     O3  AQI\n",
       "0  01-01-2017   61.25  100.46  39.37  0.25   6.08  69.11  110\n",
       "1  02-01-2017   47.21   80.12  52.00  0.33  20.73  47.61  103\n",
       "2  03-01-2017   65.45  132.09  58.68  0.31  22.99  50.37  103\n",
       "3  04-01-2017  116.03  197.89  58.20  0.15  37.31  56.42  215\n",
       "4  05-01-2017   96.21  162.27  57.60  0.00  25.88  45.66  276"
      ]
     },
     "execution_count": 3,
     "metadata": {},
     "output_type": "execute_result"
    }
   ],
   "source": [
    "dataset.head()"
   ]
  },
  {
   "cell_type": "code",
   "execution_count": 4,
   "metadata": {},
   "outputs": [
    {
     "data": {
      "text/plain": [
       "Date     0\n",
       "PM2.5    0\n",
       "PM10     0\n",
       "NO2      0\n",
       "CO       0\n",
       "SO2      0\n",
       "O3       0\n",
       "AQI      0\n",
       "dtype: int64"
      ]
     },
     "execution_count": 4,
     "metadata": {},
     "output_type": "execute_result"
    }
   ],
   "source": [
    "dataset.isnull().sum()"
   ]
  },
  {
   "cell_type": "code",
   "execution_count": 5,
   "metadata": {},
   "outputs": [
    {
     "data": {
      "text/html": [
       "<div>\n",
       "<style scoped>\n",
       "    .dataframe tbody tr th:only-of-type {\n",
       "        vertical-align: middle;\n",
       "    }\n",
       "\n",
       "    .dataframe tbody tr th {\n",
       "        vertical-align: top;\n",
       "    }\n",
       "\n",
       "    .dataframe thead th {\n",
       "        text-align: right;\n",
       "    }\n",
       "</style>\n",
       "<table border=\"1\" class=\"dataframe\">\n",
       "  <thead>\n",
       "    <tr style=\"text-align: right;\">\n",
       "      <th></th>\n",
       "      <th>PM2.5</th>\n",
       "      <th>PM10</th>\n",
       "      <th>NO2</th>\n",
       "      <th>CO</th>\n",
       "      <th>SO2</th>\n",
       "      <th>O3</th>\n",
       "      <th>AQI</th>\n",
       "    </tr>\n",
       "  </thead>\n",
       "  <tbody>\n",
       "    <tr>\n",
       "      <th>count</th>\n",
       "      <td>1271.000000</td>\n",
       "      <td>1271.000000</td>\n",
       "      <td>1271.000000</td>\n",
       "      <td>1271.000000</td>\n",
       "      <td>1271.000000</td>\n",
       "      <td>1271.000000</td>\n",
       "      <td>1271.000000</td>\n",
       "    </tr>\n",
       "    <tr>\n",
       "      <th>mean</th>\n",
       "      <td>41.573024</td>\n",
       "      <td>92.438644</td>\n",
       "      <td>32.106528</td>\n",
       "      <td>0.481810</td>\n",
       "      <td>8.652181</td>\n",
       "      <td>34.632835</td>\n",
       "      <td>97.900079</td>\n",
       "    </tr>\n",
       "    <tr>\n",
       "      <th>std</th>\n",
       "      <td>21.570828</td>\n",
       "      <td>44.242006</td>\n",
       "      <td>13.560882</td>\n",
       "      <td>0.268225</td>\n",
       "      <td>5.640045</td>\n",
       "      <td>13.831671</td>\n",
       "      <td>38.196944</td>\n",
       "    </tr>\n",
       "    <tr>\n",
       "      <th>min</th>\n",
       "      <td>5.560000</td>\n",
       "      <td>10.540000</td>\n",
       "      <td>7.090000</td>\n",
       "      <td>0.000000</td>\n",
       "      <td>1.660000</td>\n",
       "      <td>9.290000</td>\n",
       "      <td>29.000000</td>\n",
       "    </tr>\n",
       "    <tr>\n",
       "      <th>25%</th>\n",
       "      <td>23.040000</td>\n",
       "      <td>56.685000</td>\n",
       "      <td>21.820000</td>\n",
       "      <td>0.280000</td>\n",
       "      <td>5.280000</td>\n",
       "      <td>24.390000</td>\n",
       "      <td>66.000000</td>\n",
       "    </tr>\n",
       "    <tr>\n",
       "      <th>50%</th>\n",
       "      <td>39.470000</td>\n",
       "      <td>88.670000</td>\n",
       "      <td>30.370000</td>\n",
       "      <td>0.490000</td>\n",
       "      <td>6.860000</td>\n",
       "      <td>32.530000</td>\n",
       "      <td>95.000000</td>\n",
       "    </tr>\n",
       "    <tr>\n",
       "      <th>75%</th>\n",
       "      <td>58.350000</td>\n",
       "      <td>126.785000</td>\n",
       "      <td>41.400000</td>\n",
       "      <td>0.670000</td>\n",
       "      <td>9.910000</td>\n",
       "      <td>44.235000</td>\n",
       "      <td>125.000000</td>\n",
       "    </tr>\n",
       "    <tr>\n",
       "      <th>max</th>\n",
       "      <td>158.040000</td>\n",
       "      <td>485.880000</td>\n",
       "      <td>73.320000</td>\n",
       "      <td>1.450000</td>\n",
       "      <td>70.390000</td>\n",
       "      <td>98.750000</td>\n",
       "      <td>281.000000</td>\n",
       "    </tr>\n",
       "  </tbody>\n",
       "</table>\n",
       "</div>"
      ],
      "text/plain": [
       "             PM2.5         PM10          NO2           CO          SO2  \\\n",
       "count  1271.000000  1271.000000  1271.000000  1271.000000  1271.000000   \n",
       "mean     41.573024    92.438644    32.106528     0.481810     8.652181   \n",
       "std      21.570828    44.242006    13.560882     0.268225     5.640045   \n",
       "min       5.560000    10.540000     7.090000     0.000000     1.660000   \n",
       "25%      23.040000    56.685000    21.820000     0.280000     5.280000   \n",
       "50%      39.470000    88.670000    30.370000     0.490000     6.860000   \n",
       "75%      58.350000   126.785000    41.400000     0.670000     9.910000   \n",
       "max     158.040000   485.880000    73.320000     1.450000    70.390000   \n",
       "\n",
       "                O3          AQI  \n",
       "count  1271.000000  1271.000000  \n",
       "mean     34.632835    97.900079  \n",
       "std      13.831671    38.196944  \n",
       "min       9.290000    29.000000  \n",
       "25%      24.390000    66.000000  \n",
       "50%      32.530000    95.000000  \n",
       "75%      44.235000   125.000000  \n",
       "max      98.750000   281.000000  "
      ]
     },
     "execution_count": 5,
     "metadata": {},
     "output_type": "execute_result"
    }
   ],
   "source": [
    "dataset.describe()"
   ]
  },
  {
   "cell_type": "code",
   "execution_count": 6,
   "metadata": {
    "scrolled": true
   },
   "outputs": [
    {
     "data": {
      "image/png": "[encoded data removed]",
      "text/plain": [
       "<Figure size 720x720 with 2 Axes>"
      ]
     },
     "metadata": {
      "needs_background": "light"
     },
     "output_type": "display_data"
    }
   ],
   "source": [
    "corrmat = dataset.corr()\n",
    "corr_features = corrmat.index\n",
    "plt.figure(figsize=(10,10))\n",
    "corrmap = sns.heatmap(dataset[corr_features].corr(),annot=True, cmap=\"RdYlGn\")"
   ]
  },
  {
   "cell_type": "markdown",
   "metadata": {},
   "source": [
    "## Splitting Independent and Dependent Variables"
   ]
  },
  {
   "cell_type": "code",
   "execution_count": 7,
   "metadata": {},
   "outputs": [
    {
     "data": {
      "text/html": [
       "<div>\n",
       "<style scoped>\n",
       "    .dataframe tbody tr th:only-of-type {\n",
       "        vertical-align: middle;\n",
       "    }\n",
       "\n",
       "    .dataframe tbody tr th {\n",
       "        vertical-align: top;\n",
       "    }\n",
       "\n",
       "    .dataframe thead th {\n",
       "        text-align: right;\n",
       "    }\n",
       "</style>\n",
       "<table border=\"1\" class=\"dataframe\">\n",
       "  <thead>\n",
       "    <tr style=\"text-align: right;\">\n",
       "      <th></th>\n",
       "      <th>PM2.5</th>\n",
       "      <th>PM10</th>\n",
       "      <th>NO2</th>\n",
       "      <th>CO</th>\n",
       "      <th>SO2</th>\n",
       "      <th>O3</th>\n",
       "    </tr>\n",
       "  </thead>\n",
       "  <tbody>\n",
       "    <tr>\n",
       "      <th>0</th>\n",
       "      <td>61.25</td>\n",
       "      <td>100.46</td>\n",
       "      <td>39.37</td>\n",
       "      <td>0.25</td>\n",
       "      <td>6.08</td>\n",
       "      <td>69.11</td>\n",
       "    </tr>\n",
       "    <tr>\n",
       "      <th>1</th>\n",
       "      <td>47.21</td>\n",
       "      <td>80.12</td>\n",
       "      <td>52.00</td>\n",
       "      <td>0.33</td>\n",
       "      <td>20.73</td>\n",
       "      <td>47.61</td>\n",
       "    </tr>\n",
       "    <tr>\n",
       "      <th>2</th>\n",
       "      <td>65.45</td>\n",
       "      <td>132.09</td>\n",
       "      <td>58.68</td>\n",
       "      <td>0.31</td>\n",
       "      <td>22.99</td>\n",
       "      <td>50.37</td>\n",
       "    </tr>\n",
       "    <tr>\n",
       "      <th>3</th>\n",
       "      <td>116.03</td>\n",
       "      <td>197.89</td>\n",
       "      <td>58.20</td>\n",
       "      <td>0.15</td>\n",
       "      <td>37.31</td>\n",
       "      <td>56.42</td>\n",
       "    </tr>\n",
       "    <tr>\n",
       "      <th>4</th>\n",
       "      <td>96.21</td>\n",
       "      <td>162.27</td>\n",
       "      <td>57.60</td>\n",
       "      <td>0.00</td>\n",
       "      <td>25.88</td>\n",
       "      <td>45.66</td>\n",
       "    </tr>\n",
       "    <tr>\n",
       "      <th>...</th>\n",
       "      <td>...</td>\n",
       "      <td>...</td>\n",
       "      <td>...</td>\n",
       "      <td>...</td>\n",
       "      <td>...</td>\n",
       "      <td>...</td>\n",
       "    </tr>\n",
       "    <tr>\n",
       "      <th>1266</th>\n",
       "      <td>23.29</td>\n",
       "      <td>44.20</td>\n",
       "      <td>22.64</td>\n",
       "      <td>0.36</td>\n",
       "      <td>5.39</td>\n",
       "      <td>24.22</td>\n",
       "    </tr>\n",
       "    <tr>\n",
       "      <th>1267</th>\n",
       "      <td>15.80</td>\n",
       "      <td>32.18</td>\n",
       "      <td>22.73</td>\n",
       "      <td>0.36</td>\n",
       "      <td>6.36</td>\n",
       "      <td>22.25</td>\n",
       "    </tr>\n",
       "    <tr>\n",
       "      <th>1268</th>\n",
       "      <td>20.24</td>\n",
       "      <td>44.74</td>\n",
       "      <td>27.59</td>\n",
       "      <td>0.38</td>\n",
       "      <td>6.29</td>\n",
       "      <td>19.98</td>\n",
       "    </tr>\n",
       "    <tr>\n",
       "      <th>1269</th>\n",
       "      <td>19.38</td>\n",
       "      <td>41.95</td>\n",
       "      <td>24.58</td>\n",
       "      <td>0.39</td>\n",
       "      <td>5.30</td>\n",
       "      <td>17.40</td>\n",
       "    </tr>\n",
       "    <tr>\n",
       "      <th>1270</th>\n",
       "      <td>26.83</td>\n",
       "      <td>66.50</td>\n",
       "      <td>27.18</td>\n",
       "      <td>0.43</td>\n",
       "      <td>6.07</td>\n",
       "      <td>13.20</td>\n",
       "    </tr>\n",
       "  </tbody>\n",
       "</table>\n",
       "<p>1271 rows × 6 columns</p>\n",
       "</div>"
      ],
      "text/plain": [
       "       PM2.5    PM10    NO2    CO    SO2     O3\n",
       "0      61.25  100.46  39.37  0.25   6.08  69.11\n",
       "1      47.21   80.12  52.00  0.33  20.73  47.61\n",
       "2      65.45  132.09  58.68  0.31  22.99  50.37\n",
       "3     116.03  197.89  58.20  0.15  37.31  56.42\n",
       "4      96.21  162.27  57.60  0.00  25.88  45.66\n",
       "...      ...     ...    ...   ...    ...    ...\n",
       "1266   23.29   44.20  22.64  0.36   5.39  24.22\n",
       "1267   15.80   32.18  22.73  0.36   6.36  22.25\n",
       "1268   20.24   44.74  27.59  0.38   6.29  19.98\n",
       "1269   19.38   41.95  24.58  0.39   5.30  17.40\n",
       "1270   26.83   66.50  27.18  0.43   6.07  13.20\n",
       "\n",
       "[1271 rows x 6 columns]"
      ]
     },
     "execution_count": 7,
     "metadata": {},
     "output_type": "execute_result"
    }
   ],
   "source": [
    "x = dataset.iloc[:,1:7]\n",
    "x"
   ]
  },
  {
   "cell_type": "code",
   "execution_count": 8,
   "metadata": {},
   "outputs": [
    {
     "data": {
      "text/plain": [
       "0       110\n",
       "1       103\n",
       "2       103\n",
       "3       215\n",
       "4       276\n",
       "       ... \n",
       "1266     58\n",
       "1267     49\n",
       "1268     47\n",
       "1269     46\n",
       "1270     48\n",
       "Name: AQI, Length: 1271, dtype: int32"
      ]
     },
     "execution_count": 8,
     "metadata": {},
     "output_type": "execute_result"
    }
   ],
   "source": [
    "y = dataset.iloc[:,7].astype(int)\n",
    "y"
   ]
  },
  {
   "cell_type": "markdown",
   "metadata": {},
   "source": [
    "## Feature Importance\n",
    "You can get the feature importance of each feature of your dataset by using the feature importance property of the model."
   ]
  },
  {
   "cell_type": "code",
   "execution_count": 9,
   "metadata": {},
   "outputs": [],
   "source": [
    "from sklearn.ensemble import ExtraTreesRegressor"
   ]
  },
  {
   "cell_type": "code",
   "execution_count": 10,
   "metadata": {},
   "outputs": [
    {
     "data": {
      "text/plain": [
       "ExtraTreesRegressor()"
      ]
     },
     "execution_count": 10,
     "metadata": {},
     "output_type": "execute_result"
    }
   ],
   "source": [
    "etr = ExtraTreesRegressor()\n",
    "etr.fit(x,y)"
   ]
  },
  {
   "cell_type": "code",
   "execution_count": 11,
   "metadata": {},
   "outputs": [
    {
     "name": "stdout",
     "output_type": "stream",
     "text": [
      "[0.3898812  0.28510807 0.16113218 0.03907081 0.03213938 0.09266837]\n"
     ]
    }
   ],
   "source": [
    "print(etr.feature_importances_)"
   ]
  },
  {
   "cell_type": "code",
   "execution_count": 12,
   "metadata": {
    "scrolled": true
   },
   "outputs": [
    {
     "data": {
      "text/plain": [
       "<matplotlib.axes._subplots.AxesSubplot at 0x16c68c08908>"
      ]
     },
     "execution_count": 12,
     "metadata": {},
     "output_type": "execute_result"
    },
    {
     "data": {
      "image/png": "[encoded data removed]",
      "text/plain": [
       "<Figure size 432x288 with 1 Axes>"
      ]
     },
     "metadata": {
      "needs_background": "light"
     },
     "output_type": "display_data"
    }
   ],
   "source": [
    "feature = pd.Series(etr.feature_importances_,index=x.columns)\n",
    "feature.nlargest(6).plot(kind=\"barh\")"
   ]
  },
  {
   "cell_type": "markdown",
   "metadata": {},
   "source": [
    "## Train and Test Splits"
   ]
  },
  {
   "cell_type": "code",
   "execution_count": 13,
   "metadata": {},
   "outputs": [],
   "source": [
    "from sklearn.model_selection import train_test_split\n",
    "import xgboost as xgb\n",
    "from sklearn.metrics import *"
   ]
  },
  {
   "cell_type": "code",
   "execution_count": 14,
   "metadata": {},
   "outputs": [],
   "source": [
    "x_train, x_test, y_train, y_test = train_test_split(x, y, test_size=0.22, random_state=42)"
   ]
  },
  {
   "cell_type": "markdown",
   "metadata": {},
   "source": [
    "## Building XGBoost Model"
   ]
  },
  {
   "cell_type": "code",
   "execution_count": 15,
   "metadata": {},
   "outputs": [],
   "source": [
    "xgbreg=xgb.XGBRegressor()"
   ]
  },
  {
   "cell_type": "code",
   "execution_count": 16,
   "metadata": {},
   "outputs": [
    {
     "data": {
      "text/plain": [
       "XGBRegressor(base_score=0.5, booster='gbtree', colsample_bylevel=1,\n",
       "             colsample_bynode=1, colsample_bytree=1, gamma=0, gpu_id=-1,\n",
       "             importance_type='gain', interaction_constraints='',\n",
       "             learning_rate=0.300000012, max_delta_step=0, max_depth=6,\n",
       "             min_child_weight=1, missing=nan, monotone_constraints='()',\n",
       "             n_estimators=100, n_jobs=0, num_parallel_tree=1, random_state=0,\n",
       "             reg_alpha=0, reg_lambda=1, scale_pos_weight=1, subsample=1,\n",
       "             tree_method='exact', validate_parameters=1, verbosity=None)"
      ]
     },
     "execution_count": 16,
     "metadata": {},
     "output_type": "execute_result"
    }
   ],
   "source": [
    "xgbreg.fit(x_train,y_train)"
   ]
  },
  {
   "cell_type": "code",
   "execution_count": 17,
   "metadata": {},
   "outputs": [],
   "source": [
    "y_pred_train=xgbreg.predict(x_train)\n",
    "y_pred=xgbreg.predict(x_test)"
   ]
  },
  {
   "cell_type": "code",
   "execution_count": 18,
   "metadata": {},
   "outputs": [
    {
     "data": {
      "text/plain": [
       "0.9992835121207723"
      ]
     },
     "execution_count": 18,
     "metadata": {},
     "output_type": "execute_result"
    }
   ],
   "source": [
    "r2_score(y_train,y_pred_train)"
   ]
  },
  {
   "cell_type": "code",
   "execution_count": 19,
   "metadata": {},
   "outputs": [
    {
     "data": {
      "text/plain": [
       "0.8812050645739368"
      ]
     },
     "execution_count": 19,
     "metadata": {},
     "output_type": "execute_result"
    }
   ],
   "source": [
    "r2_score(y_test,y_pred)"
   ]
  },
  {
   "cell_type": "markdown",
   "metadata": {},
   "source": [
    "## We can clearly observe that the model has Over Fitting, so we need to perform Hyper Parameter Tuning."
   ]
  },
  {
   "cell_type": "code",
   "execution_count": 20,
   "metadata": {},
   "outputs": [],
   "source": [
    "from sklearn.pipeline import Pipeline\n",
    "from sklearn.preprocessing import MinMaxScaler\n",
    "from sklearn.model_selection import GridSearchCV"
   ]
  },
  {
   "cell_type": "code",
   "execution_count": 21,
   "metadata": {},
   "outputs": [],
   "source": [
    "# no of trees in RF\n",
    "n_estimators=list(np.linspace(start=100,stop=800,num=8,dtype=\"int\"))\n",
    "\n",
    "#various learning rate parameters\n",
    "learning_rate=['0.05','0.1','0.2','0.3','0.4']\n",
    "\n",
    "# max no of levels of tree\n",
    "max_depth=np.linspace(5,20,num=4,dtype=\"int\")\n",
    "\n",
    "#subsample parameter values( Subsample ratio of the training instance.)\n",
    "subsample =[0.7,0.8,0.9]\n",
    "\n",
    "#minimum child weight parameters(Minimum sum of instance weight(hessian) needed in a child)\n",
    "min_child_weight=[3,4,5,6]"
   ]
  },
  {
   "cell_type": "code",
   "execution_count": 22,
   "metadata": {},
   "outputs": [
    {
     "name": "stdout",
     "output_type": "stream",
     "text": [
      "{'n_estimators': [100, 200, 300, 400, 500, 600, 700, 800], 'learning_rate': ['0.05', '0.1', '0.2', '0.3', '0.4'], 'max_depth': array([ 5, 10, 15, 20]), 'subsample': [0.7, 0.8, 0.9], 'min_child_weight': [3, 4, 5, 6]}\n"
     ]
    }
   ],
   "source": [
    "# creating param grid\n",
    "param_grid= {\"n_estimators\":n_estimators,\n",
    "            \"learning_rate\":learning_rate,\n",
    "             \"max_depth\":max_depth,\n",
    "             \"subsample\":subsample,\n",
    "             \"min_child_weight\":min_child_weight}\n",
    "\n",
    "print(param_grid)"
   ]
  },
  {
   "cell_type": "code",
   "execution_count": 23,
   "metadata": {},
   "outputs": [],
   "source": [
    "xgboost_model = Pipeline(steps=[('Scaler',MinMaxScaler()),('Regressor',GridSearchCV(xgb.XGBRegressor(),param_grid=param_grid,scoring='r2', n_jobs=4, cv=5, verbose=3))])"
   ]
  },
  {
   "cell_type": "code",
   "execution_count": 24,
   "metadata": {},
   "outputs": [
    {
     "name": "stdout",
     "output_type": "stream",
     "text": [
      "Fitting 5 folds for each of 1920 candidates, totalling 9600 fits\n"
     ]
    },
    {
     "name": "stderr",
     "output_type": "stream",
     "text": [
      "[Parallel(n_jobs=4)]: Using backend LokyBackend with 4 concurrent workers.\n",
      "[Parallel(n_jobs=4)]: Done  24 tasks      | elapsed:    6.6s\n",
      "[Parallel(n_jobs=4)]: Done 120 tasks      | elapsed:   29.1s\n",
      "[Parallel(n_jobs=4)]: Done 280 tasks      | elapsed:   57.9s\n",
      "[Parallel(n_jobs=4)]: Done 504 tasks      | elapsed:  1.8min\n",
      "[Parallel(n_jobs=4)]: Done 792 tasks      | elapsed:  3.5min\n",
      "[Parallel(n_jobs=4)]: Done 1144 tasks      | elapsed:  6.0min\n",
      "[Parallel(n_jobs=4)]: Done 1560 tasks      | elapsed:  9.0min\n",
      "[Parallel(n_jobs=4)]: Done 2040 tasks      | elapsed: 12.2min\n",
      "[Parallel(n_jobs=4)]: Done 2584 tasks      | elapsed: 14.0min\n",
      "[Parallel(n_jobs=4)]: Done 3192 tasks      | elapsed: 17.5min\n",
      "[Parallel(n_jobs=4)]: Done 3864 tasks      | elapsed: 22.4min\n",
      "[Parallel(n_jobs=4)]: Done 4600 tasks      | elapsed: 24.4min\n",
      "[Parallel(n_jobs=4)]: Done 5400 tasks      | elapsed: 29.1min\n",
      "[Parallel(n_jobs=4)]: Done 6264 tasks      | elapsed: 33.2min\n",
      "[Parallel(n_jobs=4)]: Done 7192 tasks      | elapsed: 37.2min\n",
      "[Parallel(n_jobs=4)]: Done 8184 tasks      | elapsed: 41.4min\n",
      "[Parallel(n_jobs=4)]: Done 9240 tasks      | elapsed: 45.2min\n",
      "[Parallel(n_jobs=4)]: Done 9600 out of 9600 | elapsed: 47.1min finished\n"
     ]
    },
    {
     "data": {
      "text/plain": [
       "Pipeline(steps=[('Scaler', MinMaxScaler()),\n",
       "                ('Regressor',\n",
       "                 GridSearchCV(cv=5,\n",
       "                              estimator=XGBRegressor(base_score=None,\n",
       "                                                     booster=None,\n",
       "                                                     colsample_bylevel=None,\n",
       "                                                     colsample_bynode=None,\n",
       "                                                     colsample_bytree=None,\n",
       "                                                     gamma=None, gpu_id=None,\n",
       "                                                     importance_type='gain',\n",
       "                                                     interaction_constraints=None,\n",
       "                                                     learning_rate=None,\n",
       "                                                     max_delta_step=None,\n",
       "                                                     max_depth=None,\n",
       "                                                     min_child_weight=None,\n",
       "                                                     missing...\n",
       "                                                     reg_alpha=None,\n",
       "                                                     reg_lambda=None,\n",
       "                                                     scale_pos_weight=None,\n",
       "                                                     subsample=None,\n",
       "                                                     tree_method=None,\n",
       "                                                     validate_parameters=None,\n",
       "                                                     verbosity=None),\n",
       "                              n_jobs=4,\n",
       "                              param_grid={'learning_rate': ['0.05', '0.1',\n",
       "                                                            '0.2', '0.3',\n",
       "                                                            '0.4'],\n",
       "                                          'max_depth': array([ 5, 10, 15, 20]),\n",
       "                                          'min_child_weight': [3, 4, 5, 6],\n",
       "                                          'n_estimators': [100, 200, 300, 400,\n",
       "                                                           500, 600, 700, 800],\n",
       "                                          'subsample': [0.7, 0.8, 0.9]},\n",
       "                              scoring='r2', verbose=3))])"
      ]
     },
     "execution_count": 24,
     "metadata": {},
     "output_type": "execute_result"
    }
   ],
   "source": [
    "xgboost_model.fit(x_train,y_train)"
   ]
  },
  {
   "cell_type": "code",
   "execution_count": 25,
   "metadata": {},
   "outputs": [
    {
     "data": {
      "text/plain": [
       "sklearn.pipeline.Pipeline"
      ]
     },
     "execution_count": 25,
     "metadata": {},
     "output_type": "execute_result"
    }
   ],
   "source": [
    "type(xgboost_model)"
   ]
  },
  {
   "cell_type": "code",
   "execution_count": 26,
   "metadata": {},
   "outputs": [],
   "source": [
    "y_pred_train = xgboost_model.predict(x_train)"
   ]
  },
  {
   "cell_type": "code",
   "execution_count": 27,
   "metadata": {},
   "outputs": [],
   "source": [
    "y_pred = xgboost_model.predict(x_test)"
   ]
  },
  {
   "cell_type": "code",
   "execution_count": 28,
   "metadata": {},
   "outputs": [
    {
     "data": {
      "text/plain": [
       "0.9669104418082772"
      ]
     },
     "execution_count": 28,
     "metadata": {},
     "output_type": "execute_result"
    }
   ],
   "source": [
    "r2_score(y_train, y_pred_train)"
   ]
  },
  {
   "cell_type": "code",
   "execution_count": 29,
   "metadata": {},
   "outputs": [
    {
     "data": {
      "text/plain": [
       "0.9017089634336816"
      ]
     },
     "execution_count": 29,
     "metadata": {},
     "output_type": "execute_result"
    }
   ],
   "source": [
    "r2_score(y_test, y_pred)"
   ]
  },
  {
   "cell_type": "markdown",
   "metadata": {},
   "source": [
    "## Saving the model"
   ]
  },
  {
   "cell_type": "code",
   "execution_count": 30,
   "metadata": {},
   "outputs": [],
   "source": [
    "import joblib"
   ]
  },
  {
   "cell_type": "code",
   "execution_count": 31,
   "metadata": {},
   "outputs": [
    {
     "data": {
      "text/plain": [
       "['xgboostAQImodel.pkl']"
      ]
     },
     "execution_count": 31,
     "metadata": {},
     "output_type": "execute_result"
    }
   ],
   "source": [
    "joblib.dump(xgboost_model,\"xgboostAQImodel.pkl\")"
   ]
  },
  {
   "cell_type": "code",
   "execution_count": null,
   "metadata": {},
   "outputs": [],
   "source": []
  },
  {
   "cell_type": "code",
   "execution_count": 108,
   "metadata": {
    "scrolled": true
   },
   "outputs": [
    {
     "name": "stdout",
     "output_type": "stream",
     "text": [
      "MAE: 8.658785714285715\n",
      "MSE: 171.92589714285714\n",
      "RMSE: 13.112051599305776\n"
     ]
    }
   ],
   "source": [
    "print('MAE:',metrics.mean_absolute_error(y_test,y_pred))\n",
    "print('MSE:',metrics.mean_squared_error(y_test,y_pred))\n",
    "print('RMSE:',np.sqrt(metrics.mean_squared_error(y_test,y_pred)))"
   ]
  },
  {
   "cell_type": "code",
   "execution_count": 111,
   "metadata": {
    "scrolled": true
   },
   "outputs": [
    {
     "name": "stdout",
     "output_type": "stream",
     "text": [
      "MAE: 2.8565085771947527\n",
      "MSE: 16.596788496468218\n",
      "RMSE: 4.07391562215864\n"
     ]
    }
   ],
   "source": [
    "print('MAE:',metrics.mean_absolute_error(y_train,y_pred_train))\n",
    "print('MSE:',metrics.mean_squared_error(y_train,y_pred_train))\n",
    "print('RMSE:',np.sqrt(metrics.mean_squared_error(y_train,y_pred_train)))"
   ]
  },
  {
   "cell_type": "code",
   "execution_count": null,
   "metadata": {},
   "outputs": [],
   "source": []
  },
  {
   "cell_type": "markdown",
   "metadata": {},
   "source": [
    "### After performing the Hyper-Parameter tuning we got training r2_score of 96.69% and test r2_score of 90.17%."
   ]
  },
  {
   "cell_type": "code",
   "execution_count": null,
   "metadata": {},
   "outputs": [],
   "source": []
  }
 ],
 "metadata": {
  "kernelspec": {
   "display_name": "Python 3",
   "language": "python",
   "name": "python3"
  },
  "language_info": {
   "codemirror_mode": {
    "name": "ipython",
    "version": 3
   },
   "file_extension": ".py",
   "mimetype": "text/x-python",
   "name": "python",
   "nbconvert_exporter": "python",
   "pygments_lexer": "ipython3",
   "version": "3.7.6"
  }
 },
 "nbformat": 4,
 "nbformat_minor": 4
}
